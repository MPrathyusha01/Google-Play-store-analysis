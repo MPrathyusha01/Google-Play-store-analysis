{
 "cells": [
  {
   "cell_type": "markdown",
   "source": [
    "# Google Playstore\n",
    "\n",
    "\n",
    "<img src=\"data:image/jpeg;base64,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\" width=\"600\">\n",
    "\n",
    "\n",
    "\n",
    " #### This dataset is taken from [Kaggle](https://www.kaggle.com/). \n",
    " ###### This notebook covers the cleaning and exploration of data for 'Google Play Store Apps'.\n",
    " \n",
    " In this dataset we have\n",
    " \n",
    " - `App`: Application name\n",
    " - `Category`: Category the app belongs to\n",
    " - `Rating`: Overall user rating of the app \n",
    " - `Reviews`: Number of user reviews for the app \n",
    " - `Size`: Size of the app \n",
    " - `Installs`: Number of user downloads/installs for the app \n",
    " - `Type`: Paid or Free\n",
    " - `Price`: Price of the app \n",
    " - `Content Rating`: Age group the app is targeted at - Children / Mature 21+ / Adult\n",
    " - `Genres`: An app can belong to multiple genres . For eg, a musical family game will belong to Music, Game, Family genres.\n",
    " - `Last Updated`: Date when the app was last updated on Play Store \n",
    " - `Current Ver`: Current version of the app available on Play Store \n",
    " - `Android Ver`: Min required Android version "
   ],
   "metadata": {
    "id": "T18YaEks3A86"
   }
  },
  {
   "cell_type": "markdown",
   "source": [
    "# Data Preparation and Cleaning\r\n",
    "\r\n",
    "**TODO** - \r\n",
    "1. Importing the libraries\r\n",
    "2. Loading the dataset\r\n",
    "3. Finding the quantity and quality of dataset according to our need, \r\n",
    "4. Checking the statstical values, null values.\r\n",
    "\r\n",
    "**All the above steps consider under Data Preparation and Cleaning**\r\n",
    "\r\n"
   ],
   "metadata": {
    "id": "WyLoz07E3A-C"
   }
  },
  {
   "cell_type": "markdown",
   "source": [
    "## Importing Librariers"
   ],
   "metadata": {}
  },
  {
   "cell_type": "code",
   "execution_count": 4,
   "source": [
    "import numpy as np\r\n",
    "import pandas as pd\r\n"
   ],
   "outputs": [],
   "metadata": {
    "executionInfo": {
     "elapsed": 1038,
     "status": "ok",
     "timestamp": 1601634915810,
     "user": {
      "displayName": "Prathyusha M",
      "photoUrl": "https://lh3.googleusercontent.com/a-/AOh14Gg2fw95Z140i8S_boBUycIbqhd_foOJa5uyNk29-A=s64",
      "userId": "02459434437890644776"
     },
     "user_tz": -330
    },
    "id": "ncNGZm933A-E"
   }
  },
  {
   "cell_type": "markdown",
   "source": [
    "## Loading the dataset"
   ],
   "metadata": {}
  },
  {
   "cell_type": "code",
   "execution_count": 5,
   "source": [
    "googleplay = pd.read_csv('googleplaystore.csv')"
   ],
   "outputs": [],
   "metadata": {
    "executionInfo": {
     "elapsed": 990,
     "status": "ok",
     "timestamp": 1601634918294,
     "user": {
      "displayName": "Prathyusha M",
      "photoUrl": "https://lh3.googleusercontent.com/a-/AOh14Gg2fw95Z140i8S_boBUycIbqhd_foOJa5uyNk29-A=s64",
      "userId": "02459434437890644776"
     },
     "user_tz": -330
    },
    "id": "0NMbOTTs3A-H"
   }
  },
  {
   "cell_type": "markdown",
   "source": [
    "## Quick peek inside the dataset"
   ],
   "metadata": {}
  },
  {
   "cell_type": "code",
   "execution_count": 6,
   "source": [
    "googleplay.head(15)"
   ],
   "outputs": [
    {
     "output_type": "execute_result",
     "data": {
      "text/plain": [
       "                                                  App        Category  Rating  \\\n",
       "0      Photo Editor & Candy Camera & Grid & ScrapBook  ART_AND_DESIGN     4.1   \n",
       "1                                 Coloring book moana  ART_AND_DESIGN     3.9   \n",
       "2   U Launcher Lite – FREE Live Cool Themes, Hide ...  ART_AND_DESIGN     4.7   \n",
       "3                               Sketch - Draw & Paint  ART_AND_DESIGN     4.5   \n",
       "4               Pixel Draw - Number Art Coloring Book  ART_AND_DESIGN     4.3   \n",
       "5                          Paper flowers instructions  ART_AND_DESIGN     4.4   \n",
       "6             Smoke Effect Photo Maker - Smoke Editor  ART_AND_DESIGN     3.8   \n",
       "7                                    Infinite Painter  ART_AND_DESIGN     4.1   \n",
       "8                                Garden Coloring Book  ART_AND_DESIGN     4.4   \n",
       "9                       Kids Paint Free - Drawing Fun  ART_AND_DESIGN     4.7   \n",
       "10                            Text on Photo - Fonteee  ART_AND_DESIGN     4.4   \n",
       "11            Name Art Photo Editor - Focus n Filters  ART_AND_DESIGN     4.4   \n",
       "12                     Tattoo Name On My Photo Editor  ART_AND_DESIGN     4.2   \n",
       "13                              Mandala Coloring Book  ART_AND_DESIGN     4.6   \n",
       "14    3D Color Pixel by Number - Sandbox Art Coloring  ART_AND_DESIGN     4.4   \n",
       "\n",
       "   Reviews  Size     Installs  Type Price Content Rating  \\\n",
       "0      159   19M      10,000+  Free     0       Everyone   \n",
       "1      967   14M     500,000+  Free     0       Everyone   \n",
       "2    87510  8.7M   5,000,000+  Free     0       Everyone   \n",
       "3   215644   25M  50,000,000+  Free     0           Teen   \n",
       "4      967  2.8M     100,000+  Free     0       Everyone   \n",
       "5      167  5.6M      50,000+  Free     0       Everyone   \n",
       "6      178   19M      50,000+  Free     0       Everyone   \n",
       "7    36815   29M   1,000,000+  Free     0       Everyone   \n",
       "8    13791   33M   1,000,000+  Free     0       Everyone   \n",
       "9      121  3.1M      10,000+  Free     0       Everyone   \n",
       "10   13880   28M   1,000,000+  Free     0       Everyone   \n",
       "11    8788   12M   1,000,000+  Free     0       Everyone   \n",
       "12   44829   20M  10,000,000+  Free     0           Teen   \n",
       "13    4326   21M     100,000+  Free     0       Everyone   \n",
       "14    1518   37M     100,000+  Free     0       Everyone   \n",
       "\n",
       "                       Genres        Last Updated         Current Ver  \\\n",
       "0                Art & Design     January 7, 2018               1.0.0   \n",
       "1   Art & Design;Pretend Play    January 15, 2018               2.0.0   \n",
       "2                Art & Design      August 1, 2018               1.2.4   \n",
       "3                Art & Design        June 8, 2018  Varies with device   \n",
       "4     Art & Design;Creativity       June 20, 2018                 1.1   \n",
       "5                Art & Design      March 26, 2017                 1.0   \n",
       "6                Art & Design      April 26, 2018                 1.1   \n",
       "7                Art & Design       June 14, 2018            6.1.61.1   \n",
       "8                Art & Design  September 20, 2017               2.9.2   \n",
       "9     Art & Design;Creativity        July 3, 2018                 2.8   \n",
       "10               Art & Design    October 27, 2017               1.0.4   \n",
       "11               Art & Design       July 31, 2018              1.0.15   \n",
       "12               Art & Design       April 2, 2018                 3.8   \n",
       "13               Art & Design       June 26, 2018               1.0.4   \n",
       "14               Art & Design      August 3, 2018               1.2.3   \n",
       "\n",
       "     Android Ver  \n",
       "0   4.0.3 and up  \n",
       "1   4.0.3 and up  \n",
       "2   4.0.3 and up  \n",
       "3     4.2 and up  \n",
       "4     4.4 and up  \n",
       "5     2.3 and up  \n",
       "6   4.0.3 and up  \n",
       "7     4.2 and up  \n",
       "8     3.0 and up  \n",
       "9   4.0.3 and up  \n",
       "10    4.1 and up  \n",
       "11    4.0 and up  \n",
       "12    4.1 and up  \n",
       "13    4.4 and up  \n",
       "14    2.3 and up  "
      ],
      "text/html": [
       "<div>\n",
       "<style scoped>\n",
       "    .dataframe tbody tr th:only-of-type {\n",
       "        vertical-align: middle;\n",
       "    }\n",
       "\n",
       "    .dataframe tbody tr th {\n",
       "        vertical-align: top;\n",
       "    }\n",
       "\n",
       "    .dataframe thead th {\n",
       "        text-align: right;\n",
       "    }\n",
       "</style>\n",
       "<table border=\"1\" class=\"dataframe\">\n",
       "  <thead>\n",
       "    <tr style=\"text-align: right;\">\n",
       "      <th></th>\n",
       "      <th>App</th>\n",
       "      <th>Category</th>\n",
       "      <th>Rating</th>\n",
       "      <th>Reviews</th>\n",
       "      <th>Size</th>\n",
       "      <th>Installs</th>\n",
       "      <th>Type</th>\n",
       "      <th>Price</th>\n",
       "      <th>Content Rating</th>\n",
       "      <th>Genres</th>\n",
       "      <th>Last Updated</th>\n",
       "      <th>Current Ver</th>\n",
       "      <th>Android Ver</th>\n",
       "    </tr>\n",
       "  </thead>\n",
       "  <tbody>\n",
       "    <tr>\n",
       "      <th>0</th>\n",
       "      <td>Photo Editor &amp; Candy Camera &amp; Grid &amp; ScrapBook</td>\n",
       "      <td>ART_AND_DESIGN</td>\n",
       "      <td>4.1</td>\n",
       "      <td>159</td>\n",
       "      <td>19M</td>\n",
       "      <td>10,000+</td>\n",
       "      <td>Free</td>\n",
       "      <td>0</td>\n",
       "      <td>Everyone</td>\n",
       "      <td>Art &amp; Design</td>\n",
       "      <td>January 7, 2018</td>\n",
       "      <td>1.0.0</td>\n",
       "      <td>4.0.3 and up</td>\n",
       "    </tr>\n",
       "    <tr>\n",
       "      <th>1</th>\n",
       "      <td>Coloring book moana</td>\n",
       "      <td>ART_AND_DESIGN</td>\n",
       "      <td>3.9</td>\n",
       "      <td>967</td>\n",
       "      <td>14M</td>\n",
       "      <td>500,000+</td>\n",
       "      <td>Free</td>\n",
       "      <td>0</td>\n",
       "      <td>Everyone</td>\n",
       "      <td>Art &amp; Design;Pretend Play</td>\n",
       "      <td>January 15, 2018</td>\n",
       "      <td>2.0.0</td>\n",
       "      <td>4.0.3 and up</td>\n",
       "    </tr>\n",
       "    <tr>\n",
       "      <th>2</th>\n",
       "      <td>U Launcher Lite – FREE Live Cool Themes, Hide ...</td>\n",
       "      <td>ART_AND_DESIGN</td>\n",
       "      <td>4.7</td>\n",
       "      <td>87510</td>\n",
       "      <td>8.7M</td>\n",
       "      <td>5,000,000+</td>\n",
       "      <td>Free</td>\n",
       "      <td>0</td>\n",
       "      <td>Everyone</td>\n",
       "      <td>Art &amp; Design</td>\n",
       "      <td>August 1, 2018</td>\n",
       "      <td>1.2.4</td>\n",
       "      <td>4.0.3 and up</td>\n",
       "    </tr>\n",
       "    <tr>\n",
       "      <th>3</th>\n",
       "      <td>Sketch - Draw &amp; Paint</td>\n",
       "      <td>ART_AND_DESIGN</td>\n",
       "      <td>4.5</td>\n",
       "      <td>215644</td>\n",
       "      <td>25M</td>\n",
       "      <td>50,000,000+</td>\n",
       "      <td>Free</td>\n",
       "      <td>0</td>\n",
       "      <td>Teen</td>\n",
       "      <td>Art &amp; Design</td>\n",
       "      <td>June 8, 2018</td>\n",
       "      <td>Varies with device</td>\n",
       "      <td>4.2 and up</td>\n",
       "    </tr>\n",
       "    <tr>\n",
       "      <th>4</th>\n",
       "      <td>Pixel Draw - Number Art Coloring Book</td>\n",
       "      <td>ART_AND_DESIGN</td>\n",
       "      <td>4.3</td>\n",
       "      <td>967</td>\n",
       "      <td>2.8M</td>\n",
       "      <td>100,000+</td>\n",
       "      <td>Free</td>\n",
       "      <td>0</td>\n",
       "      <td>Everyone</td>\n",
       "      <td>Art &amp; Design;Creativity</td>\n",
       "      <td>June 20, 2018</td>\n",
       "      <td>1.1</td>\n",
       "      <td>4.4 and up</td>\n",
       "    </tr>\n",
       "    <tr>\n",
       "      <th>5</th>\n",
       "      <td>Paper flowers instructions</td>\n",
       "      <td>ART_AND_DESIGN</td>\n",
       "      <td>4.4</td>\n",
       "      <td>167</td>\n",
       "      <td>5.6M</td>\n",
       "      <td>50,000+</td>\n",
       "      <td>Free</td>\n",
       "      <td>0</td>\n",
       "      <td>Everyone</td>\n",
       "      <td>Art &amp; Design</td>\n",
       "      <td>March 26, 2017</td>\n",
       "      <td>1.0</td>\n",
       "      <td>2.3 and up</td>\n",
       "    </tr>\n",
       "    <tr>\n",
       "      <th>6</th>\n",
       "      <td>Smoke Effect Photo Maker - Smoke Editor</td>\n",
       "      <td>ART_AND_DESIGN</td>\n",
       "      <td>3.8</td>\n",
       "      <td>178</td>\n",
       "      <td>19M</td>\n",
       "      <td>50,000+</td>\n",
       "      <td>Free</td>\n",
       "      <td>0</td>\n",
       "      <td>Everyone</td>\n",
       "      <td>Art &amp; Design</td>\n",
       "      <td>April 26, 2018</td>\n",
       "      <td>1.1</td>\n",
       "      <td>4.0.3 and up</td>\n",
       "    </tr>\n",
       "    <tr>\n",
       "      <th>7</th>\n",
       "      <td>Infinite Painter</td>\n",
       "      <td>ART_AND_DESIGN</td>\n",
       "      <td>4.1</td>\n",
       "      <td>36815</td>\n",
       "      <td>29M</td>\n",
       "      <td>1,000,000+</td>\n",
       "      <td>Free</td>\n",
       "      <td>0</td>\n",
       "      <td>Everyone</td>\n",
       "      <td>Art &amp; Design</td>\n",
       "      <td>June 14, 2018</td>\n",
       "      <td>6.1.61.1</td>\n",
       "      <td>4.2 and up</td>\n",
       "    </tr>\n",
       "    <tr>\n",
       "      <th>8</th>\n",
       "      <td>Garden Coloring Book</td>\n",
       "      <td>ART_AND_DESIGN</td>\n",
       "      <td>4.4</td>\n",
       "      <td>13791</td>\n",
       "      <td>33M</td>\n",
       "      <td>1,000,000+</td>\n",
       "      <td>Free</td>\n",
       "      <td>0</td>\n",
       "      <td>Everyone</td>\n",
       "      <td>Art &amp; Design</td>\n",
       "      <td>September 20, 2017</td>\n",
       "      <td>2.9.2</td>\n",
       "      <td>3.0 and up</td>\n",
       "    </tr>\n",
       "    <tr>\n",
       "      <th>9</th>\n",
       "      <td>Kids Paint Free - Drawing Fun</td>\n",
       "      <td>ART_AND_DESIGN</td>\n",
       "      <td>4.7</td>\n",
       "      <td>121</td>\n",
       "      <td>3.1M</td>\n",
       "      <td>10,000+</td>\n",
       "      <td>Free</td>\n",
       "      <td>0</td>\n",
       "      <td>Everyone</td>\n",
       "      <td>Art &amp; Design;Creativity</td>\n",
       "      <td>July 3, 2018</td>\n",
       "      <td>2.8</td>\n",
       "      <td>4.0.3 and up</td>\n",
       "    </tr>\n",
       "    <tr>\n",
       "      <th>10</th>\n",
       "      <td>Text on Photo - Fonteee</td>\n",
       "      <td>ART_AND_DESIGN</td>\n",
       "      <td>4.4</td>\n",
       "      <td>13880</td>\n",
       "      <td>28M</td>\n",
       "      <td>1,000,000+</td>\n",
       "      <td>Free</td>\n",
       "      <td>0</td>\n",
       "      <td>Everyone</td>\n",
       "      <td>Art &amp; Design</td>\n",
       "      <td>October 27, 2017</td>\n",
       "      <td>1.0.4</td>\n",
       "      <td>4.1 and up</td>\n",
       "    </tr>\n",
       "    <tr>\n",
       "      <th>11</th>\n",
       "      <td>Name Art Photo Editor - Focus n Filters</td>\n",
       "      <td>ART_AND_DESIGN</td>\n",
       "      <td>4.4</td>\n",
       "      <td>8788</td>\n",
       "      <td>12M</td>\n",
       "      <td>1,000,000+</td>\n",
       "      <td>Free</td>\n",
       "      <td>0</td>\n",
       "      <td>Everyone</td>\n",
       "      <td>Art &amp; Design</td>\n",
       "      <td>July 31, 2018</td>\n",
       "      <td>1.0.15</td>\n",
       "      <td>4.0 and up</td>\n",
       "    </tr>\n",
       "    <tr>\n",
       "      <th>12</th>\n",
       "      <td>Tattoo Name On My Photo Editor</td>\n",
       "      <td>ART_AND_DESIGN</td>\n",
       "      <td>4.2</td>\n",
       "      <td>44829</td>\n",
       "      <td>20M</td>\n",
       "      <td>10,000,000+</td>\n",
       "      <td>Free</td>\n",
       "      <td>0</td>\n",
       "      <td>Teen</td>\n",
       "      <td>Art &amp; Design</td>\n",
       "      <td>April 2, 2018</td>\n",
       "      <td>3.8</td>\n",
       "      <td>4.1 and up</td>\n",
       "    </tr>\n",
       "    <tr>\n",
       "      <th>13</th>\n",
       "      <td>Mandala Coloring Book</td>\n",
       "      <td>ART_AND_DESIGN</td>\n",
       "      <td>4.6</td>\n",
       "      <td>4326</td>\n",
       "      <td>21M</td>\n",
       "      <td>100,000+</td>\n",
       "      <td>Free</td>\n",
       "      <td>0</td>\n",
       "      <td>Everyone</td>\n",
       "      <td>Art &amp; Design</td>\n",
       "      <td>June 26, 2018</td>\n",
       "      <td>1.0.4</td>\n",
       "      <td>4.4 and up</td>\n",
       "    </tr>\n",
       "    <tr>\n",
       "      <th>14</th>\n",
       "      <td>3D Color Pixel by Number - Sandbox Art Coloring</td>\n",
       "      <td>ART_AND_DESIGN</td>\n",
       "      <td>4.4</td>\n",
       "      <td>1518</td>\n",
       "      <td>37M</td>\n",
       "      <td>100,000+</td>\n",
       "      <td>Free</td>\n",
       "      <td>0</td>\n",
       "      <td>Everyone</td>\n",
       "      <td>Art &amp; Design</td>\n",
       "      <td>August 3, 2018</td>\n",
       "      <td>1.2.3</td>\n",
       "      <td>2.3 and up</td>\n",
       "    </tr>\n",
       "  </tbody>\n",
       "</table>\n",
       "</div>"
      ]
     },
     "metadata": {},
     "execution_count": 6
    }
   ],
   "metadata": {
    "colab": {
     "base_uri": "https://localhost:8080/",
     "height": 377
    },
    "executionInfo": {
     "elapsed": 969,
     "status": "ok",
     "timestamp": 1601634925182,
     "user": {
      "displayName": "Prathyusha M",
      "photoUrl": "https://lh3.googleusercontent.com/a-/AOh14Gg2fw95Z140i8S_boBUycIbqhd_foOJa5uyNk29-A=s64",
      "userId": "02459434437890644776"
     },
     "user_tz": -330
    },
    "id": "oTvzNCR_3A-L",
    "outputId": "6a83a3fb-780f-4158-8cd5-ca2f9e4bf279"
   }
  },
  {
   "cell_type": "markdown",
   "source": [
    "## About the dataset "
   ],
   "metadata": {}
  },
  {
   "cell_type": "markdown",
   "source": [
    "### Shape of dataset"
   ],
   "metadata": {}
  },
  {
   "cell_type": "code",
   "execution_count": 13,
   "source": [
    "print(\"The shape of the dataset:\",googleplay.shape)"
   ],
   "outputs": [
    {
     "output_type": "stream",
     "name": "stdout",
     "text": [
      "The shape of the dataset: (10841, 13)\n"
     ]
    }
   ],
   "metadata": {
    "colab": {
     "base_uri": "https://localhost:8080/",
     "height": 377
    },
    "executionInfo": {
     "elapsed": 1068,
     "status": "ok",
     "timestamp": 1601634996451,
     "user": {
      "displayName": "Prathyusha M",
      "photoUrl": "https://lh3.googleusercontent.com/a-/AOh14Gg2fw95Z140i8S_boBUycIbqhd_foOJa5uyNk29-A=s64",
      "userId": "02459434437890644776"
     },
     "user_tz": -330
    },
    "id": "W_J90RoG3A-O",
    "outputId": "898eb67d-76c6-40b1-d9d5-532155440c2f"
   }
  },
  {
   "cell_type": "markdown",
   "source": [
    "### Names of Columns"
   ],
   "metadata": {}
  },
  {
   "cell_type": "code",
   "execution_count": 14,
   "source": [
    "googleplay.columns"
   ],
   "outputs": [
    {
     "output_type": "execute_result",
     "data": {
      "text/plain": [
       "Index(['App', 'Category', 'Rating', 'Reviews', 'Size', 'Installs', 'Type',\n",
       "       'Price', 'Content Rating', 'Genres', 'Last Updated', 'Current Ver',\n",
       "       'Android Ver'],\n",
       "      dtype='object')"
      ]
     },
     "metadata": {},
     "execution_count": 14
    }
   ],
   "metadata": {
    "colab": {
     "base_uri": "https://localhost:8080/",
     "height": 278
    },
    "executionInfo": {
     "elapsed": 913,
     "status": "ok",
     "timestamp": 1601635003121,
     "user": {
      "displayName": "Prathyusha M",
      "photoUrl": "https://lh3.googleusercontent.com/a-/AOh14Gg2fw95Z140i8S_boBUycIbqhd_foOJa5uyNk29-A=s64",
      "userId": "02459434437890644776"
     },
     "user_tz": -330
    },
    "id": "v06fSiMV3A-T",
    "outputId": "33478579-524a-4cbc-e952-d76664f3c8f5"
   }
  },
  {
   "cell_type": "markdown",
   "source": [
    "### Stastical values about dataset"
   ],
   "metadata": {}
  },
  {
   "cell_type": "code",
   "execution_count": 15,
   "source": [
    "googleplay.describe()"
   ],
   "outputs": [
    {
     "output_type": "execute_result",
     "data": {
      "text/plain": [
       "            Rating\n",
       "count  9367.000000\n",
       "mean      4.193338\n",
       "std       0.537431\n",
       "min       1.000000\n",
       "25%       4.000000\n",
       "50%       4.300000\n",
       "75%       4.500000\n",
       "max      19.000000"
      ],
      "text/html": [
       "<div>\n",
       "<style scoped>\n",
       "    .dataframe tbody tr th:only-of-type {\n",
       "        vertical-align: middle;\n",
       "    }\n",
       "\n",
       "    .dataframe tbody tr th {\n",
       "        vertical-align: top;\n",
       "    }\n",
       "\n",
       "    .dataframe thead th {\n",
       "        text-align: right;\n",
       "    }\n",
       "</style>\n",
       "<table border=\"1\" class=\"dataframe\">\n",
       "  <thead>\n",
       "    <tr style=\"text-align: right;\">\n",
       "      <th></th>\n",
       "      <th>Rating</th>\n",
       "    </tr>\n",
       "  </thead>\n",
       "  <tbody>\n",
       "    <tr>\n",
       "      <th>count</th>\n",
       "      <td>9367.000000</td>\n",
       "    </tr>\n",
       "    <tr>\n",
       "      <th>mean</th>\n",
       "      <td>4.193338</td>\n",
       "    </tr>\n",
       "    <tr>\n",
       "      <th>std</th>\n",
       "      <td>0.537431</td>\n",
       "    </tr>\n",
       "    <tr>\n",
       "      <th>min</th>\n",
       "      <td>1.000000</td>\n",
       "    </tr>\n",
       "    <tr>\n",
       "      <th>25%</th>\n",
       "      <td>4.000000</td>\n",
       "    </tr>\n",
       "    <tr>\n",
       "      <th>50%</th>\n",
       "      <td>4.300000</td>\n",
       "    </tr>\n",
       "    <tr>\n",
       "      <th>75%</th>\n",
       "      <td>4.500000</td>\n",
       "    </tr>\n",
       "    <tr>\n",
       "      <th>max</th>\n",
       "      <td>19.000000</td>\n",
       "    </tr>\n",
       "  </tbody>\n",
       "</table>\n",
       "</div>"
      ]
     },
     "metadata": {},
     "execution_count": 15
    }
   ],
   "metadata": {
    "colab": {
     "base_uri": "https://localhost:8080/",
     "height": 33
    },
    "executionInfo": {
     "elapsed": 1136,
     "status": "ok",
     "timestamp": 1601635006531,
     "user": {
      "displayName": "Prathyusha M",
      "photoUrl": "https://lh3.googleusercontent.com/a-/AOh14Gg2fw95Z140i8S_boBUycIbqhd_foOJa5uyNk29-A=s64",
      "userId": "02459434437890644776"
     },
     "user_tz": -330
    },
    "id": "7JUcIjPZ3A-b",
    "outputId": "5161238e-8400-4874-b551-03a6f88c7719"
   }
  },
  {
   "cell_type": "markdown",
   "source": [
    "### Little deep info"
   ],
   "metadata": {}
  },
  {
   "cell_type": "code",
   "execution_count": 16,
   "source": [
    "googleplay.info()"
   ],
   "outputs": [
    {
     "output_type": "stream",
     "name": "stdout",
     "text": [
      "<class 'pandas.core.frame.DataFrame'>\n",
      "RangeIndex: 10841 entries, 0 to 10840\n",
      "Data columns (total 13 columns):\n",
      " #   Column          Non-Null Count  Dtype  \n",
      "---  ------          --------------  -----  \n",
      " 0   App             10841 non-null  object \n",
      " 1   Category        10841 non-null  object \n",
      " 2   Rating          9367 non-null   float64\n",
      " 3   Reviews         10841 non-null  object \n",
      " 4   Size            10841 non-null  object \n",
      " 5   Installs        10841 non-null  object \n",
      " 6   Type            10840 non-null  object \n",
      " 7   Price           10841 non-null  object \n",
      " 8   Content Rating  10840 non-null  object \n",
      " 9   Genres          10841 non-null  object \n",
      " 10  Last Updated    10841 non-null  object \n",
      " 11  Current Ver     10833 non-null  object \n",
      " 12  Android Ver     10838 non-null  object \n",
      "dtypes: float64(1), object(12)\n",
      "memory usage: 1.1+ MB\n"
     ]
    }
   ],
   "metadata": {
    "colab": {
     "base_uri": "https://localhost:8080/",
     "height": 376
    },
    "executionInfo": {
     "elapsed": 930,
     "status": "ok",
     "timestamp": 1601635010777,
     "user": {
      "displayName": "Prathyusha M",
      "photoUrl": "https://lh3.googleusercontent.com/a-/AOh14Gg2fw95Z140i8S_boBUycIbqhd_foOJa5uyNk29-A=s64",
      "userId": "02459434437890644776"
     },
     "user_tz": -330
    },
    "id": "7poBIotY3A-o",
    "outputId": "04e7febe-f60c-460a-89b7-aa207e9abe5a",
    "scrolled": true
   }
  },
  {
   "cell_type": "markdown",
   "source": [
    "# Cleaning and sorting data"
   ],
   "metadata": {}
  },
  {
   "cell_type": "markdown",
   "source": [
    "## Check for unique values"
   ],
   "metadata": {}
  },
  {
   "cell_type": "code",
   "execution_count": 17,
   "source": [
    "googleplay.nunique()"
   ],
   "outputs": [
    {
     "output_type": "execute_result",
     "data": {
      "text/plain": [
       "App               9660\n",
       "Category            34\n",
       "Rating              40\n",
       "Reviews           6002\n",
       "Size               462\n",
       "Installs            22\n",
       "Type                 3\n",
       "Price               93\n",
       "Content Rating       6\n",
       "Genres             120\n",
       "Last Updated      1378\n",
       "Current Ver       2832\n",
       "Android Ver         33\n",
       "dtype: int64"
      ]
     },
     "metadata": {},
     "execution_count": 17
    }
   ],
   "metadata": {
    "colab": {
     "base_uri": "https://localhost:8080/",
     "height": 278
    },
    "executionInfo": {
     "elapsed": 967,
     "status": "ok",
     "timestamp": 1601635798071,
     "user": {
      "displayName": "Prathyusha M",
      "photoUrl": "https://lh3.googleusercontent.com/a-/AOh14Gg2fw95Z140i8S_boBUycIbqhd_foOJa5uyNk29-A=s64",
      "userId": "02459434437890644776"
     },
     "user_tz": -330
    },
    "id": "YLx9JNnC3A-w",
    "outputId": "0a130370-965e-48b5-fb8b-b04e07b2a9c7"
   }
  },
  {
   "cell_type": "markdown",
   "source": [
    "### Checking for null values"
   ],
   "metadata": {}
  },
  {
   "cell_type": "code",
   "execution_count": 18,
   "source": [
    "googleplay.isnull().sum()"
   ],
   "outputs": [
    {
     "output_type": "execute_result",
     "data": {
      "text/plain": [
       "App                  0\n",
       "Category             0\n",
       "Rating            1474\n",
       "Reviews              0\n",
       "Size                 0\n",
       "Installs             0\n",
       "Type                 1\n",
       "Price                0\n",
       "Content Rating       1\n",
       "Genres               0\n",
       "Last Updated         0\n",
       "Current Ver          8\n",
       "Android Ver          3\n",
       "dtype: int64"
      ]
     },
     "metadata": {},
     "execution_count": 18
    }
   ],
   "metadata": {
    "colab": {
     "base_uri": "https://localhost:8080/",
     "height": 213
    },
    "executionInfo": {
     "elapsed": 960,
     "status": "ok",
     "timestamp": 1601635800735,
     "user": {
      "displayName": "Prathyusha M",
      "photoUrl": "https://lh3.googleusercontent.com/a-/AOh14Gg2fw95Z140i8S_boBUycIbqhd_foOJa5uyNk29-A=s64",
      "userId": "02459434437890644776"
     },
     "user_tz": -330
    },
    "id": "UCUcDTJT3A-2",
    "outputId": "e5df0ce4-6d40-403b-b712-adb1923dd06d"
   }
  },
  {
   "cell_type": "markdown",
   "source": [
    "Here we have `1474` null values in the dataset"
   ],
   "metadata": {}
  },
  {
   "cell_type": "markdown",
   "source": [
    "### Removing the dataset"
   ],
   "metadata": {}
  },
  {
   "cell_type": "code",
   "execution_count": 19,
   "source": [
    "googleplay=googleplay.dropna()\r\n",
    "googleplay.shape"
   ],
   "outputs": [
    {
     "output_type": "execute_result",
     "data": {
      "text/plain": [
       "(9360, 13)"
      ]
     },
     "metadata": {},
     "execution_count": 19
    }
   ],
   "metadata": {
    "colab": {
     "base_uri": "https://localhost:8080/",
     "height": 213
    },
    "executionInfo": {
     "elapsed": 937,
     "status": "ok",
     "timestamp": 1601635803707,
     "user": {
      "displayName": "Prathyusha M",
      "photoUrl": "https://lh3.googleusercontent.com/a-/AOh14Gg2fw95Z140i8S_boBUycIbqhd_foOJa5uyNk29-A=s64",
      "userId": "02459434437890644776"
     },
     "user_tz": -330
    },
    "id": "4khJoXb43A-8",
    "outputId": "65208c79-f017-46fe-8e40-930ba8e47e2b"
   }
  },
  {
   "cell_type": "markdown",
   "source": [
    "### Converting the `Last Updated` from `object` to `datetime64`"
   ],
   "metadata": {}
  },
  {
   "cell_type": "code",
   "execution_count": 20,
   "source": [
    "googleplay[\"Last Updated\"] = pd.to_datetime(googleplay[\"Last Updated\"])\r\n",
    "googleplay[\"Rating\"].astype(int)\r\n",
    "googleplay.head()"
   ],
   "outputs": [
    {
     "output_type": "execute_result",
     "data": {
      "text/plain": [
       "                                                 App        Category  Rating  \\\n",
       "0     Photo Editor & Candy Camera & Grid & ScrapBook  ART_AND_DESIGN     4.1   \n",
       "1                                Coloring book moana  ART_AND_DESIGN     3.9   \n",
       "2  U Launcher Lite – FREE Live Cool Themes, Hide ...  ART_AND_DESIGN     4.7   \n",
       "3                              Sketch - Draw & Paint  ART_AND_DESIGN     4.5   \n",
       "4              Pixel Draw - Number Art Coloring Book  ART_AND_DESIGN     4.3   \n",
       "\n",
       "  Reviews  Size     Installs  Type Price Content Rating  \\\n",
       "0     159   19M      10,000+  Free     0       Everyone   \n",
       "1     967   14M     500,000+  Free     0       Everyone   \n",
       "2   87510  8.7M   5,000,000+  Free     0       Everyone   \n",
       "3  215644   25M  50,000,000+  Free     0           Teen   \n",
       "4     967  2.8M     100,000+  Free     0       Everyone   \n",
       "\n",
       "                      Genres Last Updated         Current Ver   Android Ver  \n",
       "0               Art & Design   2018-01-07               1.0.0  4.0.3 and up  \n",
       "1  Art & Design;Pretend Play   2018-01-15               2.0.0  4.0.3 and up  \n",
       "2               Art & Design   2018-08-01               1.2.4  4.0.3 and up  \n",
       "3               Art & Design   2018-06-08  Varies with device    4.2 and up  \n",
       "4    Art & Design;Creativity   2018-06-20                 1.1    4.4 and up  "
      ],
      "text/html": [
       "<div>\n",
       "<style scoped>\n",
       "    .dataframe tbody tr th:only-of-type {\n",
       "        vertical-align: middle;\n",
       "    }\n",
       "\n",
       "    .dataframe tbody tr th {\n",
       "        vertical-align: top;\n",
       "    }\n",
       "\n",
       "    .dataframe thead th {\n",
       "        text-align: right;\n",
       "    }\n",
       "</style>\n",
       "<table border=\"1\" class=\"dataframe\">\n",
       "  <thead>\n",
       "    <tr style=\"text-align: right;\">\n",
       "      <th></th>\n",
       "      <th>App</th>\n",
       "      <th>Category</th>\n",
       "      <th>Rating</th>\n",
       "      <th>Reviews</th>\n",
       "      <th>Size</th>\n",
       "      <th>Installs</th>\n",
       "      <th>Type</th>\n",
       "      <th>Price</th>\n",
       "      <th>Content Rating</th>\n",
       "      <th>Genres</th>\n",
       "      <th>Last Updated</th>\n",
       "      <th>Current Ver</th>\n",
       "      <th>Android Ver</th>\n",
       "    </tr>\n",
       "  </thead>\n",
       "  <tbody>\n",
       "    <tr>\n",
       "      <th>0</th>\n",
       "      <td>Photo Editor &amp; Candy Camera &amp; Grid &amp; ScrapBook</td>\n",
       "      <td>ART_AND_DESIGN</td>\n",
       "      <td>4.1</td>\n",
       "      <td>159</td>\n",
       "      <td>19M</td>\n",
       "      <td>10,000+</td>\n",
       "      <td>Free</td>\n",
       "      <td>0</td>\n",
       "      <td>Everyone</td>\n",
       "      <td>Art &amp; Design</td>\n",
       "      <td>2018-01-07</td>\n",
       "      <td>1.0.0</td>\n",
       "      <td>4.0.3 and up</td>\n",
       "    </tr>\n",
       "    <tr>\n",
       "      <th>1</th>\n",
       "      <td>Coloring book moana</td>\n",
       "      <td>ART_AND_DESIGN</td>\n",
       "      <td>3.9</td>\n",
       "      <td>967</td>\n",
       "      <td>14M</td>\n",
       "      <td>500,000+</td>\n",
       "      <td>Free</td>\n",
       "      <td>0</td>\n",
       "      <td>Everyone</td>\n",
       "      <td>Art &amp; Design;Pretend Play</td>\n",
       "      <td>2018-01-15</td>\n",
       "      <td>2.0.0</td>\n",
       "      <td>4.0.3 and up</td>\n",
       "    </tr>\n",
       "    <tr>\n",
       "      <th>2</th>\n",
       "      <td>U Launcher Lite – FREE Live Cool Themes, Hide ...</td>\n",
       "      <td>ART_AND_DESIGN</td>\n",
       "      <td>4.7</td>\n",
       "      <td>87510</td>\n",
       "      <td>8.7M</td>\n",
       "      <td>5,000,000+</td>\n",
       "      <td>Free</td>\n",
       "      <td>0</td>\n",
       "      <td>Everyone</td>\n",
       "      <td>Art &amp; Design</td>\n",
       "      <td>2018-08-01</td>\n",
       "      <td>1.2.4</td>\n",
       "      <td>4.0.3 and up</td>\n",
       "    </tr>\n",
       "    <tr>\n",
       "      <th>3</th>\n",
       "      <td>Sketch - Draw &amp; Paint</td>\n",
       "      <td>ART_AND_DESIGN</td>\n",
       "      <td>4.5</td>\n",
       "      <td>215644</td>\n",
       "      <td>25M</td>\n",
       "      <td>50,000,000+</td>\n",
       "      <td>Free</td>\n",
       "      <td>0</td>\n",
       "      <td>Teen</td>\n",
       "      <td>Art &amp; Design</td>\n",
       "      <td>2018-06-08</td>\n",
       "      <td>Varies with device</td>\n",
       "      <td>4.2 and up</td>\n",
       "    </tr>\n",
       "    <tr>\n",
       "      <th>4</th>\n",
       "      <td>Pixel Draw - Number Art Coloring Book</td>\n",
       "      <td>ART_AND_DESIGN</td>\n",
       "      <td>4.3</td>\n",
       "      <td>967</td>\n",
       "      <td>2.8M</td>\n",
       "      <td>100,000+</td>\n",
       "      <td>Free</td>\n",
       "      <td>0</td>\n",
       "      <td>Everyone</td>\n",
       "      <td>Art &amp; Design;Creativity</td>\n",
       "      <td>2018-06-20</td>\n",
       "      <td>1.1</td>\n",
       "      <td>4.4 and up</td>\n",
       "    </tr>\n",
       "  </tbody>\n",
       "</table>\n",
       "</div>"
      ]
     },
     "metadata": {},
     "execution_count": 20
    }
   ],
   "metadata": {}
  },
  {
   "cell_type": "code",
   "execution_count": 21,
   "source": [
    "googleplay['Rating'].dtype"
   ],
   "outputs": [
    {
     "output_type": "execute_result",
     "data": {
      "text/plain": [
       "dtype('float64')"
      ]
     },
     "metadata": {},
     "execution_count": 21
    }
   ],
   "metadata": {}
  },
  {
   "cell_type": "markdown",
   "source": [
    "## Splitting the dataset according to their `Price`"
   ],
   "metadata": {}
  },
  {
   "cell_type": "code",
   "execution_count": 22,
   "source": [
    "free_apps = googleplay[googleplay['Type'] == 'Free']\r\n",
    "paid_apps = googleplay[googleplay['Type'] == 'Paid']"
   ],
   "outputs": [],
   "metadata": {}
  },
  {
   "cell_type": "markdown",
   "source": [
    "## Exploratory Analysis by Categories"
   ],
   "metadata": {}
  },
  {
   "cell_type": "markdown",
   "source": [
    "### Type of `apps`"
   ],
   "metadata": {}
  },
  {
   "cell_type": "code",
   "execution_count": 23,
   "source": [
    "googleplay['Type'].value_counts()"
   ],
   "outputs": [
    {
     "output_type": "execute_result",
     "data": {
      "text/plain": [
       "Free    8715\n",
       "Paid     645\n",
       "Name: Type, dtype: int64"
      ]
     },
     "metadata": {},
     "execution_count": 23
    }
   ],
   "metadata": {}
  },
  {
   "cell_type": "markdown",
   "source": [
    "### Type of `Category`"
   ],
   "metadata": {}
  },
  {
   "cell_type": "code",
   "execution_count": 24,
   "source": [
    "googleplay['Category'].value_counts()"
   ],
   "outputs": [
    {
     "output_type": "execute_result",
     "data": {
      "text/plain": [
       "FAMILY                 1746\n",
       "GAME                   1097\n",
       "TOOLS                   733\n",
       "PRODUCTIVITY            351\n",
       "MEDICAL                 350\n",
       "COMMUNICATION           328\n",
       "FINANCE                 323\n",
       "SPORTS                  319\n",
       "PHOTOGRAPHY             317\n",
       "LIFESTYLE               314\n",
       "PERSONALIZATION         312\n",
       "BUSINESS                303\n",
       "HEALTH_AND_FITNESS      297\n",
       "SOCIAL                  259\n",
       "SHOPPING                238\n",
       "NEWS_AND_MAGAZINES      233\n",
       "TRAVEL_AND_LOCAL        226\n",
       "DATING                  195\n",
       "BOOKS_AND_REFERENCE     178\n",
       "VIDEO_PLAYERS           160\n",
       "EDUCATION               155\n",
       "ENTERTAINMENT           149\n",
       "MAPS_AND_NAVIGATION     124\n",
       "FOOD_AND_DRINK          109\n",
       "HOUSE_AND_HOME           76\n",
       "WEATHER                  75\n",
       "AUTO_AND_VEHICLES        73\n",
       "LIBRARIES_AND_DEMO       64\n",
       "ART_AND_DESIGN           61\n",
       "COMICS                   58\n",
       "PARENTING                50\n",
       "EVENTS                   45\n",
       "BEAUTY                   42\n",
       "Name: Category, dtype: int64"
      ]
     },
     "metadata": {},
     "execution_count": 24
    }
   ],
   "metadata": {
    "scrolled": true
   }
  },
  {
   "cell_type": "markdown",
   "source": [
    "### Type of `Price`"
   ],
   "metadata": {}
  },
  {
   "cell_type": "code",
   "execution_count": 25,
   "source": [
    "googleplay['Price'].value_counts().sort_values(ascending=False)"
   ],
   "outputs": [
    {
     "output_type": "execute_result",
     "data": {
      "text/plain": [
       "0          8715\n",
       "$2.99       114\n",
       "$0.99       106\n",
       "$4.99        70\n",
       "$1.99        59\n",
       "           ... \n",
       "$14.00        1\n",
       "$2.56         1\n",
       "$379.99       1\n",
       "$3.04         1\n",
       "$15.99        1\n",
       "Name: Price, Length: 73, dtype: int64"
      ]
     },
     "metadata": {},
     "execution_count": 25
    }
   ],
   "metadata": {}
  },
  {
   "cell_type": "markdown",
   "source": [
    "### Type of `rating`"
   ],
   "metadata": {}
  },
  {
   "cell_type": "code",
   "execution_count": 26,
   "source": [
    "googleplay['Rating'].value_counts().sort_index(ascending=False)"
   ],
   "outputs": [
    {
     "output_type": "execute_result",
     "data": {
      "text/plain": [
       "5.0     274\n",
       "4.9      87\n",
       "4.8     234\n",
       "4.7     499\n",
       "4.6     823\n",
       "4.5    1037\n",
       "4.4    1108\n",
       "4.3    1076\n",
       "4.2     951\n",
       "4.1     707\n",
       "4.0     567\n",
       "3.9     386\n",
       "3.8     303\n",
       "3.7     239\n",
       "3.6     174\n",
       "3.5     163\n",
       "3.4     128\n",
       "3.3     102\n",
       "3.2      63\n",
       "3.1      69\n",
       "3.0      83\n",
       "2.9      45\n",
       "2.8      42\n",
       "2.7      25\n",
       "2.6      25\n",
       "2.5      21\n",
       "2.4      19\n",
       "2.3      20\n",
       "2.2      14\n",
       "2.1       8\n",
       "2.0      12\n",
       "1.9      13\n",
       "1.8       8\n",
       "1.7       8\n",
       "1.6       4\n",
       "1.5       3\n",
       "1.4       3\n",
       "1.2       1\n",
       "1.0      16\n",
       "Name: Rating, dtype: int64"
      ]
     },
     "metadata": {},
     "execution_count": 26
    }
   ],
   "metadata": {}
  },
  {
   "cell_type": "markdown",
   "source": [
    "# Exploratory Analysis and Visualization\n",
    "\n",
    "**TODO** -`Exploratory data analysis` is an approach to analyzing data sets to summarize their main characteristics, often with visual methods."
   ],
   "metadata": {
    "id": "ujnk7NYc3A_I"
   }
  },
  {
   "cell_type": "markdown",
   "source": [
    "Let's begin by importing`matplotlib.pyplot` and `seaborn`."
   ],
   "metadata": {
    "id": "mnVGk5tj3A_J"
   }
  },
  {
   "cell_type": "code",
   "execution_count": null,
   "source": [
    "import matplotlib.pyplot as plt\r\n",
    "import seaborn as sns\r\n",
    "%matplotlib inline"
   ],
   "outputs": [],
   "metadata": {}
  },
  {
   "cell_type": "markdown",
   "source": [
    "## Paid or Free based apps"
   ],
   "metadata": {
    "id": "zLOUluNd3A_M"
   }
  },
  {
   "cell_type": "code",
   "execution_count": null,
   "source": [
    "plt.figure(figsize=(7,5))\r\n",
    "#plt.xticks(rotation=90)\r\n",
    "plt.title('Type based apps');\r\n",
    "plt.rc('font',size=15)\r\n",
    "sns.countplot(googleplay['Type'],palette='Set2');"
   ],
   "outputs": [],
   "metadata": {
    "colab": {
     "base_uri": "https://localhost:8080/",
     "height": 391
    },
    "executionInfo": {
     "elapsed": 2922,
     "status": "ok",
     "timestamp": 1601636258308,
     "user": {
      "displayName": "Prathyusha M",
      "photoUrl": "https://lh3.googleusercontent.com/a-/AOh14Gg2fw95Z140i8S_boBUycIbqhd_foOJa5uyNk29-A=s64",
      "userId": "02459434437890644776"
     },
     "user_tz": -330
    },
    "id": "7LDJLEBg3A_N",
    "outputId": "c8fa5e8c-d392-43b9-8cb8-55d46f92ecfa"
   }
  },
  {
   "cell_type": "markdown",
   "source": [
    "* People like to install `Free` apps compared to `Paid` ones"
   ],
   "metadata": {}
  },
  {
   "cell_type": "markdown",
   "source": [
    "## Overall user rating of the app"
   ],
   "metadata": {
    "id": "VJR05TPD3A_r"
   }
  },
  {
   "cell_type": "code",
   "execution_count": null,
   "source": [
    "hist=googleplay['Rating'].hist(bins=15, density=True, stacked=True, color='teal', alpha=0.6)\r\n",
    "googleplay[\"Rating\"].plot(kind='density', color='teal')\r\n",
    "plt.rc('font',size=10)\r\n",
    "plt.title(' Range of reviews');\r\n",
    "plt.grid()\r\n",
    "plt.xlim(0,5)\r\n",
    "plt.show()"
   ],
   "outputs": [],
   "metadata": {
    "colab": {
     "base_uri": "https://localhost:8080/",
     "height": 417
    },
    "executionInfo": {
     "elapsed": 2146,
     "status": "ok",
     "timestamp": 1601636897075,
     "user": {
      "displayName": "Prathyusha M",
      "photoUrl": "https://lh3.googleusercontent.com/a-/AOh14Gg2fw95Z140i8S_boBUycIbqhd_foOJa5uyNk29-A=s64",
      "userId": "02459434437890644776"
     },
     "user_tz": -330
    },
    "id": "HEr8oDGU3A_R",
    "outputId": "859bc6d9-58ae-4c72-98a1-6a8d4d4f2748"
   }
  },
  {
   "cell_type": "markdown",
   "source": [
    "* The range of reviews are high at range og 3.5 to 4.5"
   ],
   "metadata": {}
  },
  {
   "cell_type": "markdown",
   "source": [
    "## Based on the `Content Rating ` what type of apps have high installs"
   ],
   "metadata": {
    "id": "5NRAYDrT3A_V"
   }
  },
  {
   "cell_type": "code",
   "execution_count": null,
   "source": [
    "plt.figure(1, figsize=(20, 7))\r\n",
    "plt.rc('font',size=20)\r\n",
    "plt.title(\"Content Rating\")\r\n",
    "sns.countplot(x = \"Content Rating\", order=googleplay['Content Rating'].value_counts().index[0:4] ,data=googleplay,palette='Blues');"
   ],
   "outputs": [],
   "metadata": {
    "colab": {
     "base_uri": "https://localhost:8080/",
     "height": 344
    },
    "executionInfo": {
     "elapsed": 1239,
     "status": "ok",
     "timestamp": 1601637170350,
     "user": {
      "displayName": "Prathyusha M",
      "photoUrl": "https://lh3.googleusercontent.com/a-/AOh14Gg2fw95Z140i8S_boBUycIbqhd_foOJa5uyNk29-A=s64",
      "userId": "02459434437890644776"
     },
     "user_tz": -330
    },
    "id": "Hq6b6ICT3A_W",
    "outputId": "a17385d6-9b46-44e7-f8a8-67ee4eb88da2"
   }
  },
  {
   "cell_type": "markdown",
   "source": [
    "* By seeing the above figure we can easily say that the apps that are availbale to everyone has large number od installs compared to the age restriction ones"
   ],
   "metadata": {
    "id": "UX5KsuWg3A_b"
   }
  },
  {
   "cell_type": "markdown",
   "source": [
    "## Number of user reviews for the app"
   ],
   "metadata": {
    "id": "oOSor5iq3A_e"
   }
  },
  {
   "cell_type": "code",
   "execution_count": null,
   "source": [
    "plt.figure(1, figsize=(20, 7))\r\n",
    "plt.title(\"Reviwes of apps\")\r\n",
    "sns.countplot(x = \"Reviews\", order=free_apps['Reviews'].value_counts().index[0:15] ,data=googleplay,palette='Set1')\r\n",
    "plt.rc('font',size=30)\r\n"
   ],
   "outputs": [],
   "metadata": {
    "id": "lh_VjelW3A_e"
   }
  },
  {
   "cell_type": "markdown",
   "source": [
    "* By the above figure, We can see that count of reviews by people to the apps "
   ],
   "metadata": {}
  },
  {
   "cell_type": "markdown",
   "source": [
    "## Count of installs in google playstore"
   ],
   "metadata": {
    "id": "PI1lNMdo3A_l"
   }
  },
  {
   "cell_type": "code",
   "execution_count": null,
   "source": [
    "plt.figure(1, figsize=(25, 10))\r\n",
    "plt.rc('font',size=20)\r\n",
    "plt.title(\"Installs\")\r\n",
    "sns.countplot(x = \"Installs\", order=googleplay['Installs'].value_counts().index[0:4] ,data=googleplay,palette='Set2');"
   ],
   "outputs": [],
   "metadata": {
    "id": "D6hm0KqT3A_m"
   }
  },
  {
   "cell_type": "markdown",
   "source": [
    "## Sub-plots based on `Category`, `Installs`, `Type`,`Content Rating`"
   ],
   "metadata": {
    "id": "j1Lgto8t3A_u"
   }
  },
  {
   "cell_type": "code",
   "execution_count": null,
   "source": [
    "def bar_plot(x,y,y_label,x_label,title,color,ax):\r\n",
    "    # plt.figure(figsize=(10,5))\r\n",
    "    bar = sns.barplot(x = x,y=y,ax=ax,orient='h')\r\n",
    "    plt.ylabel(y_label)\r\n",
    "    plt.xlabel(x_label)\r\n",
    "    plt.title(title)\r\n",
    "    for i, v in enumerate(x.values):\r\n",
    "        ax.text(v + 3, i + .25, str(v), color='black', fontweight='bold')\r\n",
    "    return bar"
   ],
   "outputs": [],
   "metadata": {
    "id": "9DaNV9Us3BAf"
   }
  },
  {
   "cell_type": "code",
   "execution_count": null,
   "source": [
    "list_1 = ['Category', 'Installs', 'Type','Content Rating']"
   ],
   "outputs": [],
   "metadata": {}
  },
  {
   "cell_type": "code",
   "execution_count": null,
   "source": [
    "fig = plt.figure(figsize=(25,25))\r\n",
    "fig.subplots_adjust(hspace=0.4, wspace=0.4)\r\n",
    "i = 1\r\n",
    "for names in list_1:\r\n",
    "    ax1 = fig.add_subplot(2, 2, i)\r\n",
    "    df2 = googleplay[names].value_counts()\r\n",
    "    df2 = df2.reset_index()\r\n",
    "    bar_plot(x = df2[names],y = df2['index'],y_label = 'Freq',title = 'Bar Chart On {}'.format(names),color='red',ax=ax1,x_label=names)\r\n",
    "    i += 1"
   ],
   "outputs": [],
   "metadata": {
    "id": "o3s3o9XP3BAm"
   }
  },
  {
   "cell_type": "markdown",
   "source": [
    "Let us save and upload our work to Jovian before continuing"
   ],
   "metadata": {
    "id": "VLapVfQI3A_w"
   }
  },
  {
   "cell_type": "markdown",
   "source": [
    "# Asking and Answering Questions"
   ],
   "metadata": {
    "id": "M6ju6aE03A_6"
   }
  },
  {
   "cell_type": "markdown",
   "source": [
    "### Q1: Which catogory of apps have high installs from `Google play store`"
   ],
   "metadata": {
    "id": "1EciCD8N3A_7"
   }
  },
  {
   "cell_type": "code",
   "execution_count": null,
   "source": [
    "free_apps['Category'].value_counts()[0:1]"
   ],
   "outputs": [],
   "metadata": {
    "id": "cp2i51MQ3A_8"
   }
  },
  {
   "cell_type": "code",
   "execution_count": null,
   "source": [
    "paid_apps['Category'].value_counts()[0:1]\r\n"
   ],
   "outputs": [],
   "metadata": {
    "id": "ZawYm9yD3BAA"
   }
  },
  {
   "cell_type": "markdown",
   "source": [
    "* By seeing, We can sat that `Family` category of apps are highly installed in both free and paid versions"
   ],
   "metadata": {}
  },
  {
   "cell_type": "markdown",
   "source": [
    "## Q2: What type of apps does poeple likey to install most `(Free/ Paid)`"
   ],
   "metadata": {
    "id": "yrBOywNa3BAJ"
   }
  },
  {
   "cell_type": "code",
   "execution_count": null,
   "source": [
    "free_apps['Installs'].value_counts()[0:1]"
   ],
   "outputs": [],
   "metadata": {
    "id": "3Z3IIZgV3BAK"
   }
  },
  {
   "cell_type": "code",
   "execution_count": null,
   "source": [
    "paid_apps['Installs'].value_counts()[0:1]"
   ],
   "outputs": [],
   "metadata": {
    "id": "qUSZpA__3BAR"
   }
  },
  {
   "cell_type": "markdown",
   "source": [
    "* It is very clear to say most percentage of people is likely to install `free` version of apps"
   ],
   "metadata": {}
  },
  {
   "cell_type": "markdown",
   "source": [
    "## Q3: What is the date of last updated and the count of apps that are updated  "
   ],
   "metadata": {
    "id": "22jHpyGI3BAT"
   }
  },
  {
   "cell_type": "code",
   "execution_count": null,
   "source": [
    "free_apps['Last Updated'].value_counts()[0:1]\r\n"
   ],
   "outputs": [],
   "metadata": {
    "id": "0v_8D60G3BAU"
   }
  },
  {
   "cell_type": "code",
   "execution_count": null,
   "source": [
    "paid_apps['Last Updated'].value_counts()[0:1]\r\n"
   ],
   "outputs": [],
   "metadata": {
    "id": "AT3SU8823BAZ"
   }
  },
  {
   "cell_type": "markdown",
   "source": [
    "* In both free and paid versions, they udated on same date. But comapre to the paid version , The count of apps that are updated on that day is 300 apps more than free version"
   ],
   "metadata": {
    "id": "0L6aNmN93BAb"
   }
  },
  {
   "cell_type": "markdown",
   "source": [
    "## Q4: What are the `TOP10` apps that are installed more than by 1 billion users"
   ],
   "metadata": {
    "id": "vBDLNs5b3BAf"
   }
  },
  {
   "cell_type": "code",
   "execution_count": null,
   "source": [
    "billion_installs_free=free_apps[free_apps['Installs'] == '1,000,000,000+']['App']\r\n",
    "pd.DataFrame(billion_installs_free).sort_index(ascending=False)[0:1]"
   ],
   "outputs": [],
   "metadata": {
    "id": "vPYvm5hE3BAr"
   }
  },
  {
   "cell_type": "code",
   "execution_count": null,
   "source": [
    "billion_installs_paid=paid_apps[paid_apps['Installs'] == '1,000,000,000+']['App']\r\n",
    "billion_installs_paid.sort_index(ascending=False)[0:1]"
   ],
   "outputs": [],
   "metadata": {}
  },
  {
   "cell_type": "markdown",
   "source": [
    "* By this we can see that the most installed apps are from free version and `google news` have most installations by users"
   ],
   "metadata": {}
  },
  {
   "cell_type": "markdown",
   "source": [
    "## Q5: What is the costly apps in Google playstore"
   ],
   "metadata": {
    "id": "B1v62efw3BAv"
   }
  },
  {
   "cell_type": "code",
   "execution_count": null,
   "source": [
    "cost_free=free_apps[free_apps['Price'] <= '$4.99']['App']\r\n",
    "cost_free.sort_index(ascending=False)"
   ],
   "outputs": [],
   "metadata": {}
  },
  {
   "cell_type": "code",
   "execution_count": null,
   "source": [
    "cost_paid=paid_apps[paid_apps['Price'] <= '$4.99']['App']\r\n",
    "pd.DataFrame(cost_paid).sort_index(ascending=False)[0:1]"
   ],
   "outputs": [],
   "metadata": {
    "id": "M7bbeisZ3BAw"
   }
  },
  {
   "cell_type": "markdown",
   "source": [
    "* The app named `Sugar` is most costly app in the google playstore"
   ],
   "metadata": {
    "id": "pYrm19Dh3BA6"
   }
  },
  {
   "cell_type": "markdown",
   "source": [
    "# Inferences and Conclusion\n",
    "\n",
    "* Google Play is the big Googley umbrella that covers the Android app store (including games), Google Play Music, Google Play Books, Google Play Movies & TV and Google Play Newsstand.\n",
    "* You'll find each of these apps installed individually on your phone, tablet or Android TV device. \n",
    "* Not every service is available in every country, so you might be missing one or more of the items.\n",
    "* That's something Google is constantly working on, and we hope all the services roll out across the globe soon."
   ],
   "metadata": {
    "id": "onl8QMyD3BBB"
   }
  },
  {
   "cell_type": "markdown",
   "source": [
    "# References \n",
    "\n",
    "* This dataset is taked by [Kaggle](https://www.kaggle.com/)\n",
    "* To download this dataset, Click [here](https://www.kaggle.com/lava18/google-play-store-apps/download)\n",
    "* This project is done under [Jovian community](https://jovian.ml/)"
   ],
   "metadata": {
    "id": "ONINKQNb3BBI"
   }
  }
 ],
 "metadata": {
  "colab": {
   "name": "zerotopandas-course-project.ipynb",
   "provenance": []
  },
  "kernelspec": {
   "name": "python3",
   "display_name": "Python 3.7.6 64-bit ('base': conda)"
  },
  "language_info": {
   "codemirror_mode": {
    "name": "ipython",
    "version": 3
   },
   "file_extension": ".py",
   "mimetype": "text/x-python",
   "name": "python",
   "nbconvert_exporter": "python",
   "pygments_lexer": "ipython3",
   "version": "3.7.6"
  },
  "interpreter": {
   "hash": "7cefd8417f8e2c2a6227b530376788c61086f283b3efd9af160ceebc05932e4e"
  }
 },
 "nbformat": 4,
 "nbformat_minor": 1
}